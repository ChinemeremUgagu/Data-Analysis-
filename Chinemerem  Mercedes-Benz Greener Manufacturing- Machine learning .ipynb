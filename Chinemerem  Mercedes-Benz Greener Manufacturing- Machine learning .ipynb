{
 "cells": [
  {
   "cell_type": "code",
   "execution_count": 1,
   "metadata": {},
   "outputs": [],
   "source": [
    "from sklearn import preprocessing\n",
    "import numpy as np\n",
    "import matplotlib.pyplot as plt\n",
    "import pandas as pd\n",
    "import seaborn as sns\n",
    "from sklearn.decomposition import PCA"
   ]
  },
  {
   "cell_type": "code",
   "execution_count": 2,
   "metadata": {},
   "outputs": [],
   "source": [
    "train =pd.read_csv(\"train.csv\")\n",
    "test =pd.read_csv(\"test.csv\")"
   ]
  },
  {
   "cell_type": "code",
   "execution_count": 3,
   "metadata": {},
   "outputs": [
    {
     "data": {
      "text/plain": [
       "((4209, 378), (4209, 377))"
      ]
     },
     "execution_count": 3,
     "metadata": {},
     "output_type": "execute_result"
    }
   ],
   "source": [
    "train.shape , test.shape"
   ]
  },
  {
   "cell_type": "code",
   "execution_count": 4,
   "metadata": {},
   "outputs": [
    {
     "data": {
      "text/plain": [
       "Index(['ID', 'y', 'X0', 'X1', 'X2', 'X3', 'X4', 'X5', 'X6', 'X8',\n",
       "       ...\n",
       "       'X375', 'X376', 'X377', 'X378', 'X379', 'X380', 'X382', 'X383', 'X384',\n",
       "       'X385'],\n",
       "      dtype='object', length=378)"
      ]
     },
     "execution_count": 4,
     "metadata": {},
     "output_type": "execute_result"
    }
   ],
   "source": [
    "train.columns"
   ]
  },
  {
   "cell_type": "code",
   "execution_count": 5,
   "metadata": {},
   "outputs": [
    {
     "data": {
      "text/plain": [
       "Index(['ID', 'X0', 'X1', 'X2', 'X3', 'X4', 'X5', 'X6', 'X8', 'X10',\n",
       "       ...\n",
       "       'X375', 'X376', 'X377', 'X378', 'X379', 'X380', 'X382', 'X383', 'X384',\n",
       "       'X385'],\n",
       "      dtype='object', length=377)"
      ]
     },
     "execution_count": 5,
     "metadata": {},
     "output_type": "execute_result"
    }
   ],
   "source": [
    "test.columns"
   ]
  },
  {
   "cell_type": "code",
   "execution_count": 6,
   "metadata": {},
   "outputs": [
    {
     "data": {
      "text/html": [
       "<div>\n",
       "<style scoped>\n",
       "    .dataframe tbody tr th:only-of-type {\n",
       "        vertical-align: middle;\n",
       "    }\n",
       "\n",
       "    .dataframe tbody tr th {\n",
       "        vertical-align: top;\n",
       "    }\n",
       "\n",
       "    .dataframe thead th {\n",
       "        text-align: right;\n",
       "    }\n",
       "</style>\n",
       "<table border=\"1\" class=\"dataframe\">\n",
       "  <thead>\n",
       "    <tr style=\"text-align: right;\">\n",
       "      <th></th>\n",
       "      <th>Var</th>\n",
       "    </tr>\n",
       "  </thead>\n",
       "  <tbody>\n",
       "    <tr>\n",
       "      <td>ID</td>\n",
       "      <td>5.941936e+06</td>\n",
       "    </tr>\n",
       "    <tr>\n",
       "      <td>y</td>\n",
       "      <td>1.607667e+02</td>\n",
       "    </tr>\n",
       "    <tr>\n",
       "      <td>X10</td>\n",
       "      <td>1.313092e-02</td>\n",
       "    </tr>\n",
       "    <tr>\n",
       "      <td>X11</td>\n",
       "      <td>0.000000e+00</td>\n",
       "    </tr>\n",
       "    <tr>\n",
       "      <td>X12</td>\n",
       "      <td>6.945713e-02</td>\n",
       "    </tr>\n",
       "    <tr>\n",
       "      <td>...</td>\n",
       "      <td>...</td>\n",
       "    </tr>\n",
       "    <tr>\n",
       "      <td>X380</td>\n",
       "      <td>8.014579e-03</td>\n",
       "    </tr>\n",
       "    <tr>\n",
       "      <td>X382</td>\n",
       "      <td>7.546747e-03</td>\n",
       "    </tr>\n",
       "    <tr>\n",
       "      <td>X383</td>\n",
       "      <td>1.660732e-03</td>\n",
       "    </tr>\n",
       "    <tr>\n",
       "      <td>X384</td>\n",
       "      <td>4.750593e-04</td>\n",
       "    </tr>\n",
       "    <tr>\n",
       "      <td>X385</td>\n",
       "      <td>1.423823e-03</td>\n",
       "    </tr>\n",
       "  </tbody>\n",
       "</table>\n",
       "<p>370 rows × 1 columns</p>\n",
       "</div>"
      ],
      "text/plain": [
       "               Var\n",
       "ID    5.941936e+06\n",
       "y     1.607667e+02\n",
       "X10   1.313092e-02\n",
       "X11   0.000000e+00\n",
       "X12   6.945713e-02\n",
       "...            ...\n",
       "X380  8.014579e-03\n",
       "X382  7.546747e-03\n",
       "X383  1.660732e-03\n",
       "X384  4.750593e-04\n",
       "X385  1.423823e-03\n",
       "\n",
       "[370 rows x 1 columns]"
      ]
     },
     "execution_count": 6,
     "metadata": {},
     "output_type": "execute_result"
    }
   ],
   "source": [
    "stats=pd.DataFrame()\n",
    "stats[\"Var\"]= train.var()\n",
    "stats"
   ]
  },
  {
   "cell_type": "code",
   "execution_count": 7,
   "metadata": {},
   "outputs": [
    {
     "data": {
      "text/html": [
       "<div>\n",
       "<style scoped>\n",
       "    .dataframe tbody tr th:only-of-type {\n",
       "        vertical-align: middle;\n",
       "    }\n",
       "\n",
       "    .dataframe tbody tr th {\n",
       "        vertical-align: top;\n",
       "    }\n",
       "\n",
       "    .dataframe thead th {\n",
       "        text-align: right;\n",
       "    }\n",
       "</style>\n",
       "<table border=\"1\" class=\"dataframe\">\n",
       "  <thead>\n",
       "    <tr style=\"text-align: right;\">\n",
       "      <th></th>\n",
       "      <th>Var</th>\n",
       "    </tr>\n",
       "  </thead>\n",
       "  <tbody>\n",
       "    <tr>\n",
       "      <td>X11</td>\n",
       "      <td>0.0</td>\n",
       "    </tr>\n",
       "    <tr>\n",
       "      <td>X93</td>\n",
       "      <td>0.0</td>\n",
       "    </tr>\n",
       "    <tr>\n",
       "      <td>X107</td>\n",
       "      <td>0.0</td>\n",
       "    </tr>\n",
       "    <tr>\n",
       "      <td>X233</td>\n",
       "      <td>0.0</td>\n",
       "    </tr>\n",
       "    <tr>\n",
       "      <td>X235</td>\n",
       "      <td>0.0</td>\n",
       "    </tr>\n",
       "    <tr>\n",
       "      <td>X268</td>\n",
       "      <td>0.0</td>\n",
       "    </tr>\n",
       "    <tr>\n",
       "      <td>X289</td>\n",
       "      <td>0.0</td>\n",
       "    </tr>\n",
       "    <tr>\n",
       "      <td>X290</td>\n",
       "      <td>0.0</td>\n",
       "    </tr>\n",
       "    <tr>\n",
       "      <td>X293</td>\n",
       "      <td>0.0</td>\n",
       "    </tr>\n",
       "    <tr>\n",
       "      <td>X297</td>\n",
       "      <td>0.0</td>\n",
       "    </tr>\n",
       "    <tr>\n",
       "      <td>X330</td>\n",
       "      <td>0.0</td>\n",
       "    </tr>\n",
       "    <tr>\n",
       "      <td>X347</td>\n",
       "      <td>0.0</td>\n",
       "    </tr>\n",
       "  </tbody>\n",
       "</table>\n",
       "</div>"
      ],
      "text/plain": [
       "      Var\n",
       "X11   0.0\n",
       "X93   0.0\n",
       "X107  0.0\n",
       "X233  0.0\n",
       "X235  0.0\n",
       "X268  0.0\n",
       "X289  0.0\n",
       "X290  0.0\n",
       "X293  0.0\n",
       "X297  0.0\n",
       "X330  0.0\n",
       "X347  0.0"
      ]
     },
     "execution_count": 7,
     "metadata": {},
     "output_type": "execute_result"
    }
   ],
   "source": [
    "zero_v= stats[stats.Var == 0]\n",
    "zero_v"
   ]
  },
  {
   "cell_type": "code",
   "execution_count": 8,
   "metadata": {},
   "outputs": [],
   "source": [
    "del [zero_v]"
   ]
  },
  {
   "cell_type": "code",
   "execution_count": 9,
   "metadata": {},
   "outputs": [
    {
     "name": "stdout",
     "output_type": "stream",
     "text": [
      "ID      5.871311e+06\n",
      "X10     1.865006e-02\n",
      "X11     2.375861e-04\n",
      "X12     6.885074e-02\n",
      "X13     5.734498e-02\n",
      "            ...     \n",
      "X380    8.014579e-03\n",
      "X382    8.715481e-03\n",
      "X383    4.750593e-04\n",
      "X384    7.124196e-04\n",
      "X385    1.660732e-03\n",
      "Length: 369, dtype: float64\n"
     ]
    }
   ],
   "source": [
    "print(test.var())"
   ]
  },
  {
   "cell_type": "code",
   "execution_count": 10,
   "metadata": {},
   "outputs": [
    {
     "data": {
      "text/html": [
       "<div>\n",
       "<style scoped>\n",
       "    .dataframe tbody tr th:only-of-type {\n",
       "        vertical-align: middle;\n",
       "    }\n",
       "\n",
       "    .dataframe tbody tr th {\n",
       "        vertical-align: top;\n",
       "    }\n",
       "\n",
       "    .dataframe thead th {\n",
       "        text-align: right;\n",
       "    }\n",
       "</style>\n",
       "<table border=\"1\" class=\"dataframe\">\n",
       "  <thead>\n",
       "    <tr style=\"text-align: right;\">\n",
       "      <th></th>\n",
       "      <th>Vars</th>\n",
       "    </tr>\n",
       "  </thead>\n",
       "  <tbody>\n",
       "    <tr>\n",
       "      <td>ID</td>\n",
       "      <td>5.871311e+06</td>\n",
       "    </tr>\n",
       "    <tr>\n",
       "      <td>X10</td>\n",
       "      <td>1.865006e-02</td>\n",
       "    </tr>\n",
       "    <tr>\n",
       "      <td>X11</td>\n",
       "      <td>2.375861e-04</td>\n",
       "    </tr>\n",
       "    <tr>\n",
       "      <td>X12</td>\n",
       "      <td>6.885074e-02</td>\n",
       "    </tr>\n",
       "    <tr>\n",
       "      <td>X13</td>\n",
       "      <td>5.734498e-02</td>\n",
       "    </tr>\n",
       "    <tr>\n",
       "      <td>...</td>\n",
       "      <td>...</td>\n",
       "    </tr>\n",
       "    <tr>\n",
       "      <td>X380</td>\n",
       "      <td>8.014579e-03</td>\n",
       "    </tr>\n",
       "    <tr>\n",
       "      <td>X382</td>\n",
       "      <td>8.715481e-03</td>\n",
       "    </tr>\n",
       "    <tr>\n",
       "      <td>X383</td>\n",
       "      <td>4.750593e-04</td>\n",
       "    </tr>\n",
       "    <tr>\n",
       "      <td>X384</td>\n",
       "      <td>7.124196e-04</td>\n",
       "    </tr>\n",
       "    <tr>\n",
       "      <td>X385</td>\n",
       "      <td>1.660732e-03</td>\n",
       "    </tr>\n",
       "  </tbody>\n",
       "</table>\n",
       "<p>369 rows × 1 columns</p>\n",
       "</div>"
      ],
      "text/plain": [
       "              Vars\n",
       "ID    5.871311e+06\n",
       "X10   1.865006e-02\n",
       "X11   2.375861e-04\n",
       "X12   6.885074e-02\n",
       "X13   5.734498e-02\n",
       "...            ...\n",
       "X380  8.014579e-03\n",
       "X382  8.715481e-03\n",
       "X383  4.750593e-04\n",
       "X384  7.124196e-04\n",
       "X385  1.660732e-03\n",
       "\n",
       "[369 rows x 1 columns]"
      ]
     },
     "execution_count": 10,
     "metadata": {},
     "output_type": "execute_result"
    }
   ],
   "source": [
    "stat=pd.DataFrame()\n",
    "stat[\"Vars\"]= test.var()\n",
    "stat"
   ]
  },
  {
   "cell_type": "code",
   "execution_count": 11,
   "metadata": {},
   "outputs": [
    {
     "data": {
      "text/html": [
       "<div>\n",
       "<style scoped>\n",
       "    .dataframe tbody tr th:only-of-type {\n",
       "        vertical-align: middle;\n",
       "    }\n",
       "\n",
       "    .dataframe tbody tr th {\n",
       "        vertical-align: top;\n",
       "    }\n",
       "\n",
       "    .dataframe thead th {\n",
       "        text-align: right;\n",
       "    }\n",
       "</style>\n",
       "<table border=\"1\" class=\"dataframe\">\n",
       "  <thead>\n",
       "    <tr style=\"text-align: right;\">\n",
       "      <th></th>\n",
       "      <th>Vars</th>\n",
       "    </tr>\n",
       "  </thead>\n",
       "  <tbody>\n",
       "    <tr>\n",
       "      <td>X257</td>\n",
       "      <td>0.0</td>\n",
       "    </tr>\n",
       "    <tr>\n",
       "      <td>X258</td>\n",
       "      <td>0.0</td>\n",
       "    </tr>\n",
       "    <tr>\n",
       "      <td>X295</td>\n",
       "      <td>0.0</td>\n",
       "    </tr>\n",
       "    <tr>\n",
       "      <td>X296</td>\n",
       "      <td>0.0</td>\n",
       "    </tr>\n",
       "    <tr>\n",
       "      <td>X369</td>\n",
       "      <td>0.0</td>\n",
       "    </tr>\n",
       "  </tbody>\n",
       "</table>\n",
       "</div>"
      ],
      "text/plain": [
       "      Vars\n",
       "X257   0.0\n",
       "X258   0.0\n",
       "X295   0.0\n",
       "X296   0.0\n",
       "X369   0.0"
      ]
     },
     "execution_count": 11,
     "metadata": {},
     "output_type": "execute_result"
    }
   ],
   "source": [
    "zer_v= stat[stat.Vars == 0]\n",
    "zer_v"
   ]
  },
  {
   "cell_type": "code",
   "execution_count": 12,
   "metadata": {},
   "outputs": [],
   "source": [
    "del [zer_v]"
   ]
  },
  {
   "cell_type": "code",
   "execution_count": 13,
   "metadata": {},
   "outputs": [],
   "source": [
    "y_train = train['y'].values"
   ]
  },
  {
   "cell_type": "code",
   "execution_count": 14,
   "metadata": {},
   "outputs": [
    {
     "name": "stdout",
     "output_type": "stream",
     "text": [
      "Number of features: 376\n"
     ]
    }
   ],
   "source": [
    "cols = [c for c in train.columns if 'X' in c]\n",
    "print('Number of features: {}'.format(len(cols)))"
   ]
  },
  {
   "cell_type": "code",
   "execution_count": 15,
   "metadata": {},
   "outputs": [
    {
     "name": "stdout",
     "output_type": "stream",
     "text": [
      "Feature types:\n"
     ]
    },
    {
     "data": {
      "text/plain": [
       "int64     368\n",
       "object      8\n",
       "dtype: int64"
      ]
     },
     "execution_count": 15,
     "metadata": {},
     "output_type": "execute_result"
    }
   ],
   "source": [
    "print('Feature types:')\n",
    "train[cols].dtypes.value_counts()"
   ]
  },
  {
   "cell_type": "code",
   "execution_count": 16,
   "metadata": {},
   "outputs": [
    {
     "name": "stdout",
     "output_type": "stream",
     "text": [
      "Constant features: 12 Binary features: 356 Categorical features: 8\n",
      "\n",
      "Constant features: ['X11', 'X93', 'X107', 'X233', 'X235', 'X268', 'X289', 'X290', 'X293', 'X297', 'X330', 'X347']\n",
      "Categorical features: ['X0', 'X1', 'X2', 'X3', 'X4', 'X5', 'X6', 'X8']\n"
     ]
    }
   ],
   "source": [
    "counts = [[], [], []]\n",
    "for c in cols:\n",
    "    typ = train[c].dtype\n",
    "    uniq = len(np.unique(train[c]))\n",
    "    if uniq == 1:\n",
    "        counts[0].append(c)\n",
    "    elif uniq == 2 and typ == np.int64:\n",
    "        counts[1].append(c)\n",
    "    else:\n",
    "        counts[2].append(c)\n",
    "\n",
    "print('Constant features: {} Binary features: {} Categorical features: {}\\n'\n",
    "      .format(*[len(c) for c in counts]))\n",
    "print('Constant features:', counts[0])\n",
    "print('Categorical features:', counts[2])"
   ]
  },
  {
   "cell_type": "code",
   "execution_count": 17,
   "metadata": {},
   "outputs": [],
   "source": [
    "usable_columns = list(set(train.columns) - set(['ID', 'y']))\n",
    "y_train = train['y'].values\n",
    "id_test = test['ID'].values\n",
    "\n",
    "x_train = train[usable_columns]\n",
    "x_test = test[usable_columns]"
   ]
  },
  {
   "cell_type": "code",
   "execution_count": 18,
   "metadata": {},
   "outputs": [
    {
     "name": "stdout",
     "output_type": "stream",
     "text": [
      "There are no missing values in the dataframe\n",
      "There are no missing values in the dataframe\n"
     ]
    }
   ],
   "source": [
    "def check_missing_values(df):\n",
    "    if df.isnull().any().any():\n",
    "        print(\"There are missing values in the dataframe\")\n",
    "    else:\n",
    "        print(\"There are no missing values in the dataframe\")\n",
    "check_missing_values(x_train)\n",
    "check_missing_values(x_test)"
   ]
  },
  {
   "cell_type": "code",
   "execution_count": 19,
   "metadata": {},
   "outputs": [
    {
     "name": "stderr",
     "output_type": "stream",
     "text": [
      "C:\\Users\\cugagu\\AppData\\Local\\Continuum\\anaconda3\\lib\\site-packages\\ipykernel_launcher.py:8: SettingWithCopyWarning: \n",
      "A value is trying to be set on a copy of a slice from a DataFrame.\n",
      "Try using .loc[row_indexer,col_indexer] = value instead\n",
      "\n",
      "See the caveats in the documentation: http://pandas.pydata.org/pandas-docs/stable/user_guide/indexing.html#returning-a-view-versus-a-copy\n",
      "  \n",
      "C:\\Users\\cugagu\\AppData\\Local\\Continuum\\anaconda3\\lib\\site-packages\\ipykernel_launcher.py:9: SettingWithCopyWarning: \n",
      "A value is trying to be set on a copy of a slice from a DataFrame.\n",
      "Try using .loc[row_indexer,col_indexer] = value instead\n",
      "\n",
      "See the caveats in the documentation: http://pandas.pydata.org/pandas-docs/stable/user_guide/indexing.html#returning-a-view-versus-a-copy\n",
      "  if __name__ == '__main__':\n"
     ]
    },
    {
     "data": {
      "text/html": [
       "<div>\n",
       "<style scoped>\n",
       "    .dataframe tbody tr th:only-of-type {\n",
       "        vertical-align: middle;\n",
       "    }\n",
       "\n",
       "    .dataframe tbody tr th {\n",
       "        vertical-align: top;\n",
       "    }\n",
       "\n",
       "    .dataframe thead th {\n",
       "        text-align: right;\n",
       "    }\n",
       "</style>\n",
       "<table border=\"1\" class=\"dataframe\">\n",
       "  <thead>\n",
       "    <tr style=\"text-align: right;\">\n",
       "      <th></th>\n",
       "      <th>X294</th>\n",
       "      <th>X321</th>\n",
       "      <th>X332</th>\n",
       "      <th>X180</th>\n",
       "      <th>X247</th>\n",
       "      <th>X99</th>\n",
       "      <th>X26</th>\n",
       "      <th>X5</th>\n",
       "      <th>X241</th>\n",
       "      <th>X59</th>\n",
       "      <th>...</th>\n",
       "      <th>X293</th>\n",
       "      <th>X263</th>\n",
       "      <th>X278</th>\n",
       "      <th>X243</th>\n",
       "      <th>X134</th>\n",
       "      <th>X98</th>\n",
       "      <th>X367</th>\n",
       "      <th>X8</th>\n",
       "      <th>X163</th>\n",
       "      <th>X128</th>\n",
       "    </tr>\n",
       "  </thead>\n",
       "  <tbody>\n",
       "    <tr>\n",
       "      <td>0</td>\n",
       "      <td>0</td>\n",
       "      <td>0</td>\n",
       "      <td>0</td>\n",
       "      <td>0</td>\n",
       "      <td>0</td>\n",
       "      <td>0</td>\n",
       "      <td>0</td>\n",
       "      <td>117</td>\n",
       "      <td>0</td>\n",
       "      <td>0</td>\n",
       "      <td>...</td>\n",
       "      <td>0</td>\n",
       "      <td>1</td>\n",
       "      <td>0</td>\n",
       "      <td>0</td>\n",
       "      <td>0</td>\n",
       "      <td>0</td>\n",
       "      <td>0</td>\n",
       "      <td>111</td>\n",
       "      <td>0</td>\n",
       "      <td>1</td>\n",
       "    </tr>\n",
       "    <tr>\n",
       "      <td>1</td>\n",
       "      <td>0</td>\n",
       "      <td>0</td>\n",
       "      <td>0</td>\n",
       "      <td>0</td>\n",
       "      <td>0</td>\n",
       "      <td>0</td>\n",
       "      <td>0</td>\n",
       "      <td>121</td>\n",
       "      <td>0</td>\n",
       "      <td>0</td>\n",
       "      <td>...</td>\n",
       "      <td>0</td>\n",
       "      <td>1</td>\n",
       "      <td>0</td>\n",
       "      <td>0</td>\n",
       "      <td>0</td>\n",
       "      <td>1</td>\n",
       "      <td>0</td>\n",
       "      <td>111</td>\n",
       "      <td>0</td>\n",
       "      <td>1</td>\n",
       "    </tr>\n",
       "    <tr>\n",
       "      <td>2</td>\n",
       "      <td>0</td>\n",
       "      <td>0</td>\n",
       "      <td>0</td>\n",
       "      <td>0</td>\n",
       "      <td>0</td>\n",
       "      <td>0</td>\n",
       "      <td>0</td>\n",
       "      <td>120</td>\n",
       "      <td>1</td>\n",
       "      <td>0</td>\n",
       "      <td>...</td>\n",
       "      <td>0</td>\n",
       "      <td>0</td>\n",
       "      <td>0</td>\n",
       "      <td>0</td>\n",
       "      <td>0</td>\n",
       "      <td>1</td>\n",
       "      <td>0</td>\n",
       "      <td>120</td>\n",
       "      <td>1</td>\n",
       "      <td>1</td>\n",
       "    </tr>\n",
       "    <tr>\n",
       "      <td>3</td>\n",
       "      <td>0</td>\n",
       "      <td>0</td>\n",
       "      <td>0</td>\n",
       "      <td>0</td>\n",
       "      <td>0</td>\n",
       "      <td>0</td>\n",
       "      <td>0</td>\n",
       "      <td>120</td>\n",
       "      <td>1</td>\n",
       "      <td>0</td>\n",
       "      <td>...</td>\n",
       "      <td>0</td>\n",
       "      <td>0</td>\n",
       "      <td>0</td>\n",
       "      <td>0</td>\n",
       "      <td>0</td>\n",
       "      <td>1</td>\n",
       "      <td>0</td>\n",
       "      <td>101</td>\n",
       "      <td>0</td>\n",
       "      <td>1</td>\n",
       "    </tr>\n",
       "    <tr>\n",
       "      <td>4</td>\n",
       "      <td>0</td>\n",
       "      <td>0</td>\n",
       "      <td>0</td>\n",
       "      <td>0</td>\n",
       "      <td>0</td>\n",
       "      <td>0</td>\n",
       "      <td>0</td>\n",
       "      <td>104</td>\n",
       "      <td>0</td>\n",
       "      <td>0</td>\n",
       "      <td>...</td>\n",
       "      <td>0</td>\n",
       "      <td>0</td>\n",
       "      <td>0</td>\n",
       "      <td>0</td>\n",
       "      <td>0</td>\n",
       "      <td>1</td>\n",
       "      <td>0</td>\n",
       "      <td>110</td>\n",
       "      <td>0</td>\n",
       "      <td>1</td>\n",
       "    </tr>\n",
       "  </tbody>\n",
       "</table>\n",
       "<p>5 rows × 376 columns</p>\n",
       "</div>"
      ],
      "text/plain": [
       "   X294  X321  X332  X180  X247  X99  X26   X5  X241  X59  ...  X293  X263  \\\n",
       "0     0     0     0     0     0    0    0  117     0    0  ...     0     1   \n",
       "1     0     0     0     0     0    0    0  121     0    0  ...     0     1   \n",
       "2     0     0     0     0     0    0    0  120     1    0  ...     0     0   \n",
       "3     0     0     0     0     0    0    0  120     1    0  ...     0     0   \n",
       "4     0     0     0     0     0    0    0  104     0    0  ...     0     0   \n",
       "\n",
       "   X278  X243  X134  X98  X367   X8  X163  X128  \n",
       "0     0     0     0    0     0  111     0     1  \n",
       "1     0     0     0    1     0  111     0     1  \n",
       "2     0     0     0    1     0  120     1     1  \n",
       "3     0     0     0    1     0  101     0     1  \n",
       "4     0     0     0    1     0  110     0     1  \n",
       "\n",
       "[5 rows x 376 columns]"
      ]
     },
     "execution_count": 19,
     "metadata": {},
     "output_type": "execute_result"
    }
   ],
   "source": [
    "for column in usable_columns:\n",
    "    cardinality = len(np.unique(x_train[column]))\n",
    "    if cardinality == 1:\n",
    "        x_train.drop(column, axis=1)\n",
    "        x_test.drop(column, axis=1)\n",
    "    if cardinality > 2:\n",
    "        mapper = lambda x: sum([ord(digit) for digit in x])\n",
    "        x_train[column] = x_train[column].apply(mapper)\n",
    "        x_test[column] = x_test[column].apply(mapper)\n",
    "x_train.head()"
   ]
  },
  {
   "cell_type": "code",
   "execution_count": null,
   "metadata": {},
   "outputs": [],
   "source": []
  },
  {
   "cell_type": "code",
   "execution_count": 20,
   "metadata": {},
   "outputs": [
    {
     "name": "stdout",
     "output_type": "stream",
     "text": [
      "Feature types:\n"
     ]
    },
    {
     "data": {
      "text/plain": [
       "int64    376\n",
       "dtype: int64"
      ]
     },
     "execution_count": 20,
     "metadata": {},
     "output_type": "execute_result"
    }
   ],
   "source": [
    "print('Feature types:')\n",
    "x_train [cols].dtypes.value_counts()"
   ]
  },
  {
   "cell_type": "code",
   "execution_count": 21,
   "metadata": {},
   "outputs": [],
   "source": [
    "n_comp = 12\n",
    "pca = PCA(n_components=n_comp, random_state=420)\n",
    "pca2_results_train = pca.fit_transform(x_train)\n",
    "pca2_results_test = pca.transform(x_test)"
   ]
  },
  {
   "cell_type": "code",
   "execution_count": 22,
   "metadata": {},
   "outputs": [],
   "source": [
    "import xgboost as xgb\n",
    "from sklearn.metrics import r2_score\n",
    "from sklearn.model_selection import train_test_split"
   ]
  },
  {
   "cell_type": "code",
   "execution_count": 23,
   "metadata": {},
   "outputs": [],
   "source": [
    "x_train, x_valid, y_train, y_valid = train_test_split(\n",
    "        pca2_results_train, \n",
    "        y_train, test_size=0.2, \n",
    "        random_state=4242)\n"
   ]
  },
  {
   "cell_type": "code",
   "execution_count": 24,
   "metadata": {},
   "outputs": [],
   "source": [
    "d_train = xgb.DMatrix(x_train, label=y_train)\n",
    "d_valid = xgb.DMatrix(x_valid, label=y_valid)\n",
    "#d_test = xgb.DMatrix(x_test)\n",
    "d_test = xgb.DMatrix(pca2_results_test)\n"
   ]
  },
  {
   "cell_type": "code",
   "execution_count": 25,
   "metadata": {},
   "outputs": [],
   "source": [
    "params = {}\n",
    "params['objective'] = 'reg:linear'\n",
    "params['eta'] = 0.02\n",
    "params['max_depth'] = 4"
   ]
  },
  {
   "cell_type": "code",
   "execution_count": 26,
   "metadata": {},
   "outputs": [],
   "source": [
    "def xgb_r2_score(preds, dtrain):\n",
    "    labels = dtrain.get_label()\n",
    "    return 'r2', r2_score(labels, preds)"
   ]
  },
  {
   "cell_type": "code",
   "execution_count": 27,
   "metadata": {},
   "outputs": [],
   "source": [
    "watchlist = [(d_train, 'train'), (d_valid, 'valid')]"
   ]
  },
  {
   "cell_type": "code",
   "execution_count": 28,
   "metadata": {},
   "outputs": [
    {
     "name": "stdout",
     "output_type": "stream",
     "text": [
      "[14:24:47] WARNING: src/objective/regression_obj.cu:152: reg:linear is now deprecated in favor of reg:squarederror.\n",
      "[0]\ttrain-rmse:99.1484\tvalid-rmse:98.263\ttrain-r2:-58.353\tvalid-r2:-67.6375\n",
      "Multiple eval metrics have been passed: 'valid-r2' will be used for early stopping.\n",
      "\n",
      "Will train until valid-r2 hasn't improved in 50 rounds.\n",
      "[10]\ttrain-rmse:81.2765\tvalid-rmse:80.3643\ttrain-r2:-38.8843\tvalid-r2:-44.9101\n",
      "[20]\ttrain-rmse:66.7161\tvalid-rmse:65.7733\ttrain-r2:-25.874\tvalid-r2:-29.7526\n",
      "[30]\ttrain-rmse:54.8696\tvalid-rmse:53.8892\ttrain-r2:-17.1775\tvalid-r2:-19.6436\n",
      "[40]\ttrain-rmse:45.2449\tvalid-rmse:44.2192\ttrain-r2:-11.3598\tvalid-r2:-12.8996\n",
      "[50]\ttrain-rmse:37.4473\tvalid-rmse:36.3738\ttrain-r2:-7.46667\tvalid-r2:-8.40503\n",
      "[60]\ttrain-rmse:31.1475\tvalid-rmse:30.02\ttrain-r2:-4.85758\tvalid-r2:-5.40622\n",
      "[70]\ttrain-rmse:26.0866\tvalid-rmse:24.9098\ttrain-r2:-3.10873\tvalid-r2:-3.41086\n",
      "[80]\ttrain-rmse:22.0464\tvalid-rmse:20.8334\ttrain-r2:-1.93459\tvalid-r2:-2.08532\n",
      "[90]\ttrain-rmse:18.8441\tvalid-rmse:17.604\ttrain-r2:-1.14398\tvalid-r2:-1.20295\n",
      "[100]\ttrain-rmse:16.3402\tvalid-rmse:15.0836\ttrain-r2:-0.612084\tvalid-r2:-0.6173\n",
      "[110]\ttrain-rmse:14.4025\tvalid-rmse:13.1465\ttrain-r2:-0.252415\tvalid-r2:-0.228575\n",
      "[120]\ttrain-rmse:12.9265\tvalid-rmse:11.6795\ttrain-r2:-0.008864\tvalid-r2:0.030323\n",
      "[130]\ttrain-rmse:11.8133\tvalid-rmse:10.6047\ttrain-r2:0.157407\tvalid-r2:0.20058\n",
      "[140]\ttrain-rmse:10.9857\tvalid-rmse:9.83966\ttrain-r2:0.271338\tvalid-r2:0.311757\n",
      "[150]\ttrain-rmse:10.3776\tvalid-rmse:9.30584\ttrain-r2:0.349778\tvalid-r2:0.384408\n",
      "[160]\ttrain-rmse:9.9227\tvalid-rmse:8.94211\ttrain-r2:0.405529\tvalid-r2:0.431589\n",
      "[170]\ttrain-rmse:9.58864\tvalid-rmse:8.69646\ttrain-r2:0.444881\tvalid-r2:0.462391\n",
      "[180]\ttrain-rmse:9.33831\tvalid-rmse:8.53866\ttrain-r2:0.473489\tvalid-r2:0.481723\n",
      "[190]\ttrain-rmse:9.15243\tvalid-rmse:8.43399\ttrain-r2:0.49424\tvalid-r2:0.494352\n",
      "[200]\ttrain-rmse:9.01012\tvalid-rmse:8.37032\ttrain-r2:0.509845\tvalid-r2:0.501957\n",
      "[210]\ttrain-rmse:8.90215\tvalid-rmse:8.32712\ttrain-r2:0.521523\tvalid-r2:0.507085\n",
      "[220]\ttrain-rmse:8.824\tvalid-rmse:8.30368\ttrain-r2:0.529887\tvalid-r2:0.509856\n",
      "[230]\ttrain-rmse:8.75945\tvalid-rmse:8.29145\ttrain-r2:0.536739\tvalid-r2:0.511299\n",
      "[240]\ttrain-rmse:8.71366\tvalid-rmse:8.28652\ttrain-r2:0.541571\tvalid-r2:0.51188\n",
      "[250]\ttrain-rmse:8.67055\tvalid-rmse:8.283\ttrain-r2:0.546095\tvalid-r2:0.512294\n",
      "[260]\ttrain-rmse:8.62999\tvalid-rmse:8.28453\ttrain-r2:0.550332\tvalid-r2:0.512114\n",
      "[270]\ttrain-rmse:8.5975\tvalid-rmse:8.28417\ttrain-r2:0.553712\tvalid-r2:0.512157\n",
      "[280]\ttrain-rmse:8.57012\tvalid-rmse:8.28516\ttrain-r2:0.556549\tvalid-r2:0.51204\n",
      "[290]\ttrain-rmse:8.5358\tvalid-rmse:8.28185\ttrain-r2:0.560094\tvalid-r2:0.51243\n",
      "[300]\ttrain-rmse:8.51217\tvalid-rmse:8.27984\ttrain-r2:0.562526\tvalid-r2:0.512666\n",
      "[310]\ttrain-rmse:8.49013\tvalid-rmse:8.27928\ttrain-r2:0.564789\tvalid-r2:0.512733\n",
      "[320]\ttrain-rmse:8.46422\tvalid-rmse:8.27992\ttrain-r2:0.567441\tvalid-r2:0.512658\n",
      "[330]\ttrain-rmse:8.44598\tvalid-rmse:8.28272\ttrain-r2:0.569304\tvalid-r2:0.512328\n",
      "[340]\ttrain-rmse:8.42213\tvalid-rmse:8.2821\ttrain-r2:0.571732\tvalid-r2:0.512401\n",
      "[350]\ttrain-rmse:8.3959\tvalid-rmse:8.28032\ttrain-r2:0.574396\tvalid-r2:0.51261\n",
      "[360]\ttrain-rmse:8.3747\tvalid-rmse:8.27812\ttrain-r2:0.576542\tvalid-r2:0.512869\n",
      "[370]\ttrain-rmse:8.35769\tvalid-rmse:8.27797\ttrain-r2:0.578261\tvalid-r2:0.512887\n",
      "[380]\ttrain-rmse:8.32944\tvalid-rmse:8.27103\ttrain-r2:0.581107\tvalid-r2:0.513703\n",
      "[390]\ttrain-rmse:8.3086\tvalid-rmse:8.26724\ttrain-r2:0.583201\tvalid-r2:0.514149\n",
      "[400]\ttrain-rmse:8.28555\tvalid-rmse:8.26469\ttrain-r2:0.58551\tvalid-r2:0.514449\n",
      "[410]\ttrain-rmse:8.25977\tvalid-rmse:8.26457\ttrain-r2:0.588085\tvalid-r2:0.514463\n",
      "[420]\ttrain-rmse:8.23868\tvalid-rmse:8.264\ttrain-r2:0.590186\tvalid-r2:0.51453\n",
      "[430]\ttrain-rmse:8.21467\tvalid-rmse:8.26505\ttrain-r2:0.592571\tvalid-r2:0.514407\n",
      "[440]\ttrain-rmse:8.18985\tvalid-rmse:8.26625\ttrain-r2:0.595029\tvalid-r2:0.514266\n",
      "[450]\ttrain-rmse:8.16141\tvalid-rmse:8.26197\ttrain-r2:0.597837\tvalid-r2:0.514768\n",
      "[460]\ttrain-rmse:8.13818\tvalid-rmse:8.26564\ttrain-r2:0.600124\tvalid-r2:0.514337\n",
      "[470]\ttrain-rmse:8.11142\tvalid-rmse:8.26253\ttrain-r2:0.602748\tvalid-r2:0.514703\n",
      "[480]\ttrain-rmse:8.08787\tvalid-rmse:8.26428\ttrain-r2:0.605052\tvalid-r2:0.514497\n",
      "[490]\ttrain-rmse:8.06786\tvalid-rmse:8.26121\ttrain-r2:0.607004\tvalid-r2:0.514857\n",
      "[500]\ttrain-rmse:8.04186\tvalid-rmse:8.26159\ttrain-r2:0.609532\tvalid-r2:0.514813\n",
      "[510]\ttrain-rmse:8.02542\tvalid-rmse:8.26177\ttrain-r2:0.611127\tvalid-r2:0.514792\n",
      "[520]\ttrain-rmse:8.00854\tvalid-rmse:8.26185\ttrain-r2:0.612762\tvalid-r2:0.514783\n",
      "[530]\ttrain-rmse:7.99015\tvalid-rmse:8.26129\ttrain-r2:0.614538\tvalid-r2:0.514848\n",
      "[540]\ttrain-rmse:7.96948\tvalid-rmse:8.26228\ttrain-r2:0.61653\tvalid-r2:0.514732\n",
      "Stopping. Best iteration:\n",
      "[496]\ttrain-rmse:8.05289\tvalid-rmse:8.26014\ttrain-r2:0.608461\tvalid-r2:0.514983\n",
      "\n"
     ]
    }
   ],
   "source": [
    "clf = xgb.train(params, d_train, \n",
    "                1000, watchlist, early_stopping_rounds=50, \n",
    "                feval=xgb_r2_score, maximize=True, verbose_eval=10)"
   ]
  },
  {
   "cell_type": "code",
   "execution_count": 29,
   "metadata": {},
   "outputs": [
    {
     "data": {
      "text/plain": [
       "array([ 82.29001,  97.14326,  82.94142, ...,  99.08738, 107.49637,\n",
       "        96.83684], dtype=float32)"
      ]
     },
     "execution_count": 29,
     "metadata": {},
     "output_type": "execute_result"
    }
   ],
   "source": [
    "p_test = clf.predict(d_test)\n",
    "p_test"
   ]
  },
  {
   "cell_type": "code",
   "execution_count": 30,
   "metadata": {},
   "outputs": [
    {
     "data": {
      "text/html": [
       "<div>\n",
       "<style scoped>\n",
       "    .dataframe tbody tr th:only-of-type {\n",
       "        vertical-align: middle;\n",
       "    }\n",
       "\n",
       "    .dataframe tbody tr th {\n",
       "        vertical-align: top;\n",
       "    }\n",
       "\n",
       "    .dataframe thead th {\n",
       "        text-align: right;\n",
       "    }\n",
       "</style>\n",
       "<table border=\"1\" class=\"dataframe\">\n",
       "  <thead>\n",
       "    <tr style=\"text-align: right;\">\n",
       "      <th></th>\n",
       "      <th>ID</th>\n",
       "      <th>y</th>\n",
       "    </tr>\n",
       "  </thead>\n",
       "  <tbody>\n",
       "    <tr>\n",
       "      <td>0</td>\n",
       "      <td>1</td>\n",
       "      <td>82.290009</td>\n",
       "    </tr>\n",
       "    <tr>\n",
       "      <td>1</td>\n",
       "      <td>2</td>\n",
       "      <td>97.143257</td>\n",
       "    </tr>\n",
       "    <tr>\n",
       "      <td>2</td>\n",
       "      <td>3</td>\n",
       "      <td>82.941422</td>\n",
       "    </tr>\n",
       "    <tr>\n",
       "      <td>3</td>\n",
       "      <td>4</td>\n",
       "      <td>76.857262</td>\n",
       "    </tr>\n",
       "    <tr>\n",
       "      <td>4</td>\n",
       "      <td>5</td>\n",
       "      <td>112.497169</td>\n",
       "    </tr>\n",
       "    <tr>\n",
       "      <td>...</td>\n",
       "      <td>...</td>\n",
       "      <td>...</td>\n",
       "    </tr>\n",
       "    <tr>\n",
       "      <td>4204</td>\n",
       "      <td>8410</td>\n",
       "      <td>109.783180</td>\n",
       "    </tr>\n",
       "    <tr>\n",
       "      <td>4205</td>\n",
       "      <td>8411</td>\n",
       "      <td>100.468788</td>\n",
       "    </tr>\n",
       "    <tr>\n",
       "      <td>4206</td>\n",
       "      <td>8413</td>\n",
       "      <td>99.087379</td>\n",
       "    </tr>\n",
       "    <tr>\n",
       "      <td>4207</td>\n",
       "      <td>8414</td>\n",
       "      <td>107.496368</td>\n",
       "    </tr>\n",
       "    <tr>\n",
       "      <td>4208</td>\n",
       "      <td>8416</td>\n",
       "      <td>96.836838</td>\n",
       "    </tr>\n",
       "  </tbody>\n",
       "</table>\n",
       "<p>4209 rows × 2 columns</p>\n",
       "</div>"
      ],
      "text/plain": [
       "        ID           y\n",
       "0        1   82.290009\n",
       "1        2   97.143257\n",
       "2        3   82.941422\n",
       "3        4   76.857262\n",
       "4        5  112.497169\n",
       "...    ...         ...\n",
       "4204  8410  109.783180\n",
       "4205  8411  100.468788\n",
       "4206  8413   99.087379\n",
       "4207  8414  107.496368\n",
       "4208  8416   96.836838\n",
       "\n",
       "[4209 rows x 2 columns]"
      ]
     },
     "execution_count": 30,
     "metadata": {},
     "output_type": "execute_result"
    }
   ],
   "source": [
    "sub = pd.DataFrame()\n",
    "sub['ID'] = id_test\n",
    "sub['y'] = p_test\n",
    "sub"
   ]
  },
  {
   "cell_type": "code",
   "execution_count": null,
   "metadata": {},
   "outputs": [],
   "source": []
  },
  {
   "cell_type": "code",
   "execution_count": null,
   "metadata": {},
   "outputs": [],
   "source": []
  },
  {
   "cell_type": "code",
   "execution_count": null,
   "metadata": {},
   "outputs": [],
   "source": []
  }
 ],
 "metadata": {
  "kernelspec": {
   "display_name": "Python 3",
   "language": "python",
   "name": "python3"
  },
  "language_info": {
   "codemirror_mode": {
    "name": "ipython",
    "version": 3
   },
   "file_extension": ".py",
   "mimetype": "text/x-python",
   "name": "python",
   "nbconvert_exporter": "python",
   "pygments_lexer": "ipython3",
   "version": "3.7.4"
  }
 },
 "nbformat": 4,
 "nbformat_minor": 2
}
